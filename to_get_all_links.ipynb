{
 "cells": [
  {
   "cell_type": "code",
   "execution_count": 1,
   "metadata": {},
   "outputs": [],
   "source": [
    "import requests\n",
    "from bs4 import BeautifulSoup\n",
    "import json"
   ]
  },
  {
   "cell_type": "code",
   "execution_count": 8,
   "metadata": {},
   "outputs": [],
   "source": [
    "r=requests.get(\"https://www.timesnownews.com/education\")"
   ]
  },
  {
   "cell_type": "code",
   "execution_count": null,
   "metadata": {},
   "outputs": [],
   "source": []
  },
  {
   "cell_type": "code",
   "execution_count": 12,
   "metadata": {},
   "outputs": [],
   "source": [
    "soup=BeautifulSoup(r.text,\"html.parser\")\n",
    "\n"
   ]
  },
  {
   "cell_type": "code",
   "execution_count": 31,
   "metadata": {},
   "outputs": [],
   "source": [
    "lst=[]\n",
    "for link in soup.find_all('a'):\n",
    "        lst.append(link.get(\"href\"))"
   ]
  },
  {
   "cell_type": "code",
   "execution_count": 40,
   "metadata": {},
   "outputs": [],
   "source": [
    "links={}\n",
    "index=1\n",
    "for link in lst:\n",
    "    if(link!=None)and (\"https://www.timesnownews.com/education\")in link:\n",
    "        links[index]=(link)\n",
    "        index=index+1"
   ]
  },
  {
   "cell_type": "code",
   "execution_count": 38,
   "metadata": {},
   "outputs": [
    {
     "data": {
      "text/plain": [
       "['https://www.timesnownews.com/education/view-all/all/latest',\n",
       " 'https://www.timesnownews.com/education/view-all/all/latest',\n",
       " 'https://www.timesnownews.com/education/article/ccil-to-recruit-60-artisan-trainee-posts-apply-on-cciltd-in-check-eligibility-vacancy-details-here/506173',\n",
       " 'https://www.timesnownews.com/education/article/air-india-assistant-supervisor-recruitment-2019-last-date-extended-till-november-5-apply-on-airindia-in/506146',\n",
       " 'https://www.timesnownews.com/education/article/utet-admit-card-2019-released-on-ubseonline-uk-gov-in-download-link-and-details-available-here/506138',\n",
       " 'https://www.timesnownews.com/education/article/classroom-on-wheels-for-students-in-arunachal-pradesh/506127',\n",
       " 'https://www.timesnownews.com/education/article/engineering-colleges-in-india-to-be-accredited-by-iit-foundation-or-ifaa-all-you-need-to-know/506121',\n",
       " 'https://www.timesnownews.com/education/article/bro-recruitment-alert-2019-apply-for-540-multi-skilled-worker-posts-on-bro-gov-in-check-details-here/506115',\n",
       " 'https://www.timesnownews.com/education/article/will-talk-to-cbse-to-treat-vocational-subjects-in-schools-as-main-subjects-manish-sisodia/506111',\n",
       " 'https://www.timesnownews.com/education/article/sarkari-naukri-this-week-oct-21-2019-apply-for-uptet-uppsc-isro-and-other-important-govt-jobs/505956',\n",
       " 'https://www.timesnownews.com/education/article/sbi-recruitment-alert-2019-apply-for-67-specialist-officer-posts-on-sbi-co-in-check-complete-details-here/505978',\n",
       " 'https://www.timesnownews.com/education/article/bihar-police-constable-recruitment-2019-apply-for-98-posts-on-csbc-bih-nic-in-check-details-here/505940',\n",
       " 'https://www.timesnownews.com/education/article/aiims-plans-to-reach-to-2000-delhi-school-students-for-positive-mind-health/505935',\n",
       " 'https://www.timesnownews.com/education/article/armys-tiger-division-universities-host-joint-workshop-on-cyber-security-in-jammu/505934',\n",
       " 'https://www.timesnownews.com/education/article/cbse-extends-last-date-of-scholarship-scheme-for-single-girl-child-till-october-31-check-official-notice-here/505926',\n",
       " 'https://www.timesnownews.com/education/article/telangana-schools-to-reopen-on-monday-after-extended-holidays-revised-sa-exam-1-time-table-released/505906',\n",
       " 'https://www.timesnownews.com/education/article/new-education-policy-to-release-in-december-2020-review-of-ncf-to-begin-soon/505887',\n",
       " 'https://www.timesnownews.com/education/article/cat-2019-top-20-management-institutes-of-india-with-last-year-cat-cut-off-percentile/505739',\n",
       " 'https://www.timesnownews.com/education/article/ibps-rrb-clerk-mains-2019-office-assistant-main-exam-tomorrow-important-instructions-admit-card-and-more/505704',\n",
       " 'https://www.timesnownews.com/education/article/haryana-elections-holiday-all-schools-colleges-and-government-offices-to-remain-closed-on-monday-october-21/505689',\n",
       " 'https://www.timesnownews.com/education/article/skill-vs-degree-and-employability-what-is-the-role-of-a-teacher-is-bridging-this-gap/505675',\n",
       " 'https://www.timesnownews.com/education/article/more-female-teachers-at-girls-schools-rajasthan-education-min-clarifies-decision-to-remove-under-50-male-teachers-from-schools/505670']"
      ]
     },
     "execution_count": 38,
     "metadata": {},
     "output_type": "execute_result"
    }
   ],
   "source": [
    "links"
   ]
  },
  {
   "cell_type": "code",
   "execution_count": 46,
   "metadata": {},
   "outputs": [],
   "source": [
    "with open ('links.json','w') as l:\n",
    "    json.dump(links,l,indent='\\n source=https://www.timesnownews.com/education\\n')"
   ]
  },
  {
   "cell_type": "code",
   "execution_count": null,
   "metadata": {},
   "outputs": [],
   "source": [
    "\n"
   ]
  }
 ],
 "metadata": {
  "kernelspec": {
   "display_name": "Python 3",
   "language": "python",
   "name": "python3"
  },
  "language_info": {
   "codemirror_mode": {
    "name": "ipython",
    "version": 3
   },
   "file_extension": ".py",
   "mimetype": "text/x-python",
   "name": "python",
   "nbconvert_exporter": "python",
   "pygments_lexer": "ipython3",
   "version": "3.7.3"
  }
 },
 "nbformat": 4,
 "nbformat_minor": 2
}
